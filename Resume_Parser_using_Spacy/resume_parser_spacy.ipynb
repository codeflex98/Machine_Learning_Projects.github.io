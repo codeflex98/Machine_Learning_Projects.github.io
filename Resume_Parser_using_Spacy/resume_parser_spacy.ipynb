{
 "cells": [
  {
   "cell_type": "code",
   "execution_count": 1,
   "id": "3a32781e",
   "metadata": {},
   "outputs": [],
   "source": [
    "import json\n",
    "import pandas as pd\n",
    "import matplotlib.pyplot as plt\n",
    "\n",
    "from collections import defaultdict"
   ]
  },
  {
   "cell_type": "markdown",
   "id": "212f9f8b",
   "metadata": {},
   "source": [
    "Step 1: Load the JSON Resume Data"
   ]
  },
  {
   "cell_type": "code",
   "execution_count": 2,
   "id": "a3daa43e",
   "metadata": {},
   "outputs": [
    {
     "name": "stdout",
     "output_type": "stream",
     "text": [
      "Total resumes: 220\n",
      "Sample keys: dict_keys(['content', 'annotation', 'extras'])\n"
     ]
    }
   ],
   "source": [
    "# Load the dataset\n",
    "with open('Entity Recognition in Resumes.json', 'r', encoding='utf-8') as f:\n",
    "    data = [json.loads(line) for line in f]\n",
    "\n",
    "# Quick preview\n",
    "print(\"Total resumes:\", len(data))\n",
    "print(\"Sample keys:\", data[0].keys())"
   ]
  },
  {
   "cell_type": "markdown",
   "id": "717bb209",
   "metadata": {},
   "source": [
    "Step 2: Convert Annotations to Structured Format"
   ]
  },
  {
   "cell_type": "code",
   "execution_count": 4,
   "id": "6343e3b4",
   "metadata": {},
   "outputs": [
    {
     "data": {
      "text/html": [
       "<div>\n",
       "<style scoped>\n",
       "    .dataframe tbody tr th:only-of-type {\n",
       "        vertical-align: middle;\n",
       "    }\n",
       "\n",
       "    .dataframe tbody tr th {\n",
       "        vertical-align: top;\n",
       "    }\n",
       "\n",
       "    .dataframe thead th {\n",
       "        text-align: right;\n",
       "    }\n",
       "</style>\n",
       "<table border=\"1\" class=\"dataframe\">\n",
       "  <thead>\n",
       "    <tr style=\"text-align: right;\">\n",
       "      <th></th>\n",
       "      <th>label</th>\n",
       "      <th>text</th>\n",
       "      <th>start</th>\n",
       "      <th>end</th>\n",
       "      <th>resume_text</th>\n",
       "    </tr>\n",
       "  </thead>\n",
       "  <tbody>\n",
       "    <tr>\n",
       "      <th>0</th>\n",
       "      <td>Skills</td>\n",
       "      <td>• Programming language: C, C++, Java\\n• Oracle...</td>\n",
       "      <td>1295</td>\n",
       "      <td>1621</td>\n",
       "      <td>Abhishek Jha\\nApplication Development Associat...</td>\n",
       "    </tr>\n",
       "    <tr>\n",
       "      <th>1</th>\n",
       "      <td>Skills</td>\n",
       "      <td>C (Less than 1 year), Database (Less than 1 ye...</td>\n",
       "      <td>993</td>\n",
       "      <td>1153</td>\n",
       "      <td>Abhishek Jha\\nApplication Development Associat...</td>\n",
       "    </tr>\n",
       "    <tr>\n",
       "      <th>2</th>\n",
       "      <td>College Name</td>\n",
       "      <td>Kendriya Vidyalaya</td>\n",
       "      <td>939</td>\n",
       "      <td>956</td>\n",
       "      <td>Abhishek Jha\\nApplication Development Associat...</td>\n",
       "    </tr>\n",
       "    <tr>\n",
       "      <th>3</th>\n",
       "      <td>College Name</td>\n",
       "      <td>Woodbine modern school</td>\n",
       "      <td>883</td>\n",
       "      <td>904</td>\n",
       "      <td>Abhishek Jha\\nApplication Development Associat...</td>\n",
       "    </tr>\n",
       "    <tr>\n",
       "      <th>4</th>\n",
       "      <td>Graduation Year</td>\n",
       "      <td>2017</td>\n",
       "      <td>856</td>\n",
       "      <td>860</td>\n",
       "      <td>Abhishek Jha\\nApplication Development Associat...</td>\n",
       "    </tr>\n",
       "  </tbody>\n",
       "</table>\n",
       "</div>"
      ],
      "text/plain": [
       "             label                                               text  start  \\\n",
       "0           Skills  • Programming language: C, C++, Java\\n• Oracle...   1295   \n",
       "1           Skills  C (Less than 1 year), Database (Less than 1 ye...    993   \n",
       "2     College Name                                 Kendriya Vidyalaya    939   \n",
       "3     College Name                             Woodbine modern school    883   \n",
       "4  Graduation Year                                               2017    856   \n",
       "\n",
       "    end                                        resume_text  \n",
       "0  1621  Abhishek Jha\\nApplication Development Associat...  \n",
       "1  1153  Abhishek Jha\\nApplication Development Associat...  \n",
       "2   956  Abhishek Jha\\nApplication Development Associat...  \n",
       "3   904  Abhishek Jha\\nApplication Development Associat...  \n",
       "4   860  Abhishek Jha\\nApplication Development Associat...  "
      ]
     },
     "execution_count": 4,
     "metadata": {},
     "output_type": "execute_result"
    }
   ],
   "source": [
    "# Flatten annotations into a structured dataframe safely\n",
    "records = []\n",
    "\n",
    "for item in data:\n",
    "    content = item.get('content', '')\n",
    "    for annotation in item.get('annotation', []):\n",
    "        labels = annotation.get('label', [])\n",
    "        if not labels:  # Skip empty label lists\n",
    "            continue\n",
    "        label = labels[0]\n",
    "        for point in annotation.get('points', []):\n",
    "            records.append({\n",
    "                'label': label,\n",
    "                'text': point.get('text', '').strip(),\n",
    "                'start': point.get('start', -1),\n",
    "                'end': point.get('end', -1),\n",
    "                'resume_text': content\n",
    "            })\n",
    "\n",
    "df = pd.DataFrame(records)\n",
    "df.head()"
   ]
  },
  {
   "cell_type": "markdown",
   "id": "36a34099",
   "metadata": {},
   "source": [
    "Step 3: Visualize Entity Distribution"
   ]
  },
  {
   "cell_type": "code",
   "execution_count": 6,
   "id": "a80bef30",
   "metadata": {},
   "outputs": [
    {
     "data": {
      "image/png": "[encoded data removed]",
      "text/plain": [
       "<Figure size 640x480 with 1 Axes>"
      ]
     },
     "metadata": {},
     "output_type": "display_data"
    }
   ],
   "source": [
    "# Plot label counts\n",
    "df['label'].value_counts().plot(kind='bar', title='Entity Distribution')\n",
    "plt.xlabel('Entity')\n",
    "plt.ylabel('Frequency')\n",
    "plt.show()"
   ]
  },
  {
   "cell_type": "markdown",
   "id": "6c754f28",
   "metadata": {},
   "source": [
    "Step 4: Create a Resume Parsing Function"
   ]
  },
  {
   "cell_type": "code",
   "execution_count": 7,
   "id": "90200421",
   "metadata": {},
   "outputs": [],
   "source": [
    "def parse_resume(text, annotations):\n",
    "    parsed = defaultdict(list)\n",
    "    for ann in annotations:\n",
    "        for pt in ann['points']:\n",
    "            parsed[ann['label'][0]].append(pt['text'].strip())\n",
    "    return dict(parsed)"
   ]
  },
  {
   "cell_type": "markdown",
   "id": "48103380",
   "metadata": {},
   "source": [
    "Step 5: Try the Parser on a Resume"
   ]
  },
  {
   "cell_type": "code",
   "execution_count": 10,
   "id": "53604119",
   "metadata": {},
   "outputs": [
    {
     "name": "stdout",
     "output_type": "stream",
     "text": [
      "{'College Name': ['Kendriya Vidyalaya',\n",
      "                  'Woodbine modern school',\n",
      "                  'B.v.b college of engineering and technology'],\n",
      " 'Companies worked at': ['Accenture', 'Accenture'],\n",
      " 'Designation': ['B.E in Information science and engineering',\n",
      "                 'Application Development Associate',\n",
      "                 'Application Development Associate'],\n",
      " 'Email Address': ['Indeed: indeed.com/r/Abhishek-Jha/10e7a8cb732bc43a'],\n",
      " 'Graduation Year': ['2017'],\n",
      " 'Location': ['Bengaluru'],\n",
      " 'Name': ['Abhishek Jha'],\n",
      " 'Skills': ['• Programming language: C, C++, Java\\n'\n",
      "            '• Oracle PeopleSoft\\n'\n",
      "            '• Internet Of Things\\n'\n",
      "            '• Machine Learning\\n'\n",
      "            '• Database Management System\\n'\n",
      "            '• Computer Networks\\n'\n",
      "            '• Operating System worked on: Linux, Windows, Mac\\n'\n",
      "            '\\n'\n",
      "            'Non - Technical Skills\\n'\n",
      "            '\\n'\n",
      "            '• Honest and Hard-Working\\n'\n",
      "            '• Tolerant and Flexible to Different Situations\\n'\n",
      "            '• Polite and Calm\\n'\n",
      "            '• Team-Player',\n",
      "            'C (Less than 1 year), Database (Less than 1 year), Database '\n",
      "            'Management (Less than 1 year),\\n'\n",
      "            'Database Management System (Less than 1 year), Java (Less than 1 '\n",
      "            'year)']}\n"
     ]
    }
   ],
   "source": [
    "# Try on first resume\n",
    "sample_resume = data[0]\n",
    "parsed_output = parse_resume(sample_resume['content'], sample_resume['annotation'])\n",
    "\n",
    "# Pretty display\n",
    "import pprint\n",
    "pprint.pprint(parsed_output)"
   ]
  }
 ],
 "metadata": {
  "kernelspec": {
   "display_name": "Python 3",
   "language": "python",
   "name": "python3"
  },
  "language_info": {
   "codemirror_mode": {
    "name": "ipython",
    "version": 3
   },
   "file_extension": ".py",
   "mimetype": "text/x-python",
   "name": "python",
   "nbconvert_exporter": "python",
   "pygments_lexer": "ipython3",
   "version": "3.12.6"
  }
 },
 "nbformat": 4,
 "nbformat_minor": 5
}
